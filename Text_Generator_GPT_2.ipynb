{
  "nbformat": 4,
  "nbformat_minor": 0,
  "metadata": {
    "colab": {
      "name": "Text Generator GPT-2.ipynb",
      "provenance": [],
      "include_colab_link": true
    },
    "kernelspec": {
      "name": "python3",
      "display_name": "Python 3"
    },
    "accelerator": "GPU"
  },
  "cells": [
    {
      "cell_type": "markdown",
      "metadata": {
        "id": "view-in-github",
        "colab_type": "text"
      },
      "source": [
        "<a href=\"https://colab.research.google.com/github/CrazyCoder009/Para-Writer-GPT-2/blob/master/Text_Generator_GPT_2.ipynb\" target=\"_parent\"><img src=\"https://colab.research.google.com/assets/colab-badge.svg\" alt=\"Open In Colab\"/></a>"
      ]
    },
    {
      "cell_type": "code",
      "metadata": {
        "id": "DcsnX6Dn7eJn",
        "colab_type": "code",
        "colab": {
          "base_uri": "https://localhost:8080/",
          "height": 104
        },
        "outputId": "34d431a4-ca91-4d1e-91d5-a14088157400"
      },
      "source": [
        "!git clone https://github.com/graykode/gpt-2-Pytorch"
      ],
      "execution_count": null,
      "outputs": [
        {
          "output_type": "stream",
          "text": [
            "Cloning into 'gpt-2-Pytorch'...\n",
            "remote: Enumerating objects: 130, done.\u001b[K\n",
            "remote: Total 130 (delta 0), reused 0 (delta 0), pack-reused 130\u001b[K\n",
            "Receiving objects: 100% (130/130), 2.39 MiB | 10.96 MiB/s, done.\n",
            "Resolving deltas: 100% (48/48), done.\n"
          ],
          "name": "stdout"
        }
      ]
    },
    {
      "cell_type": "code",
      "metadata": {
        "id": "tztoU8sI83wp",
        "colab_type": "code",
        "colab": {}
      },
      "source": [
        "import os\n",
        "os.chdir('/content/gpt-2-Pytorch')"
      ],
      "execution_count": null,
      "outputs": []
    },
    {
      "cell_type": "code",
      "metadata": {
        "id": "9-eQ6k5Y9GzT",
        "colab_type": "code",
        "colab": {
          "base_uri": "https://localhost:8080/",
          "height": 315
        },
        "outputId": "b267f171-b049-4921-ab32-b00ddd29b9aa"
      },
      "source": [
        "!curl --output /content/gpt-2-Pytorch/gpt2-pytorch_model.bin https://s3.amazonaws.com/models.huggingface.co/bert/gpt2-pytorch_model.bin\n",
        "!pip install -r requirements.txt"
      ],
      "execution_count": null,
      "outputs": [
        {
          "output_type": "stream",
          "text": [
            "  % Total    % Received % Xferd  Average Speed   Time    Time     Time  Current\n",
            "                                 Dload  Upload   Total   Spent    Left  Speed\n",
            "100  522M  100  522M    0     0  48.5M      0  0:00:10  0:00:10 --:--:-- 48.2M\n",
            "Collecting regex==2017.4.5\n",
            "\u001b[?25l  Downloading https://files.pythonhosted.org/packages/36/62/c0c0d762ffd4ffaf39f372eb8561b8d491a11ace5a7884610424a8b40f95/regex-2017.04.05.tar.gz (601kB)\n",
            "\u001b[K     |████████████████████████████████| 604kB 3.4MB/s \n",
            "\u001b[?25hBuilding wheels for collected packages: regex\n",
            "  Building wheel for regex (setup.py) ... \u001b[?25l\u001b[?25hdone\n",
            "  Created wheel for regex: filename=regex-2017.4.5-cp36-cp36m-linux_x86_64.whl size=533206 sha256=4950d968638d7213e2188b260a48f12a8d73e654e191032d999d99170446a29e\n",
            "  Stored in directory: /root/.cache/pip/wheels/75/07/38/3c16b529d50cb4e0cd3dbc7b75cece8a09c132692c74450b01\n",
            "Successfully built regex\n",
            "Installing collected packages: regex\n",
            "  Found existing installation: regex 2019.12.20\n",
            "    Uninstalling regex-2019.12.20:\n",
            "      Successfully uninstalled regex-2019.12.20\n",
            "Successfully installed regex-2017.4.5\n"
          ],
          "name": "stdout"
        }
      ]
    },
    {
      "cell_type": "code",
      "metadata": {
        "id": "s93dkw1E9VRM",
        "colab_type": "code",
        "colab": {
          "base_uri": "https://localhost:8080/",
          "height": 819
        },
        "outputId": "3320b987-3e4c-4dad-e04b-583aeb73df2e"
      },
      "source": [
        "!python main.py --text \"THe day of sunshine was here....\""
      ],
      "execution_count": null,
      "outputs": [
        {
          "output_type": "stream",
          "text": [
            "Namespace(batch_size=-1, length=-1, nsamples=1, quiet=False, temperature=0.7, text='THe day of sunshine was here....', top_k=40, unconditional=False)\n",
            "THe day of sunshine was here....\n",
            "100% 512/512 [00:14<00:00, 34.24it/s]\n",
            "======================================== SAMPLE 1 ========================================\n",
            "I was very happy with the work I did, as I had been working up the courage to go out there and work in the field.\n",
            "\n",
            "The day I found my job as a driver, after the car was hit by a car, the next day I went to work and I was quite happy. The next day I saw my wife, who is a very good cook and a lovely wife. I thought, 'this is a very beautiful day' for her.\n",
            "\n",
            "I was always very happy with my car, but after the accident I had to start taking my parents' car for work.\n",
            "\n",
            "After the accident my wife was going into the house and I felt myself going in the car for a while. Then I had to go to the hospital and have a heart attack.\n",
            "\n",
            "I think I still love my car. I am very happy!\n",
            "\n",
            "I have a big family. I have a great wife, who is a very good cook and a very nice wife.\n",
            "\n",
            "I have a great sister who is a good cook, and who is very good at sewing.\n",
            "\n",
            "It is a very happy day for me. I am very happy with the work I did and with my family.\n",
            "\n",
            "I am the only child of a French immigrant who had a very good life.\n",
            "\n",
            "I am still the only child of a French immigrant who had a very good life.\n",
            "\n",
            "I am very happy. I am the only child of a French immigrant who had a very good life.\n",
            "\n",
            "I am very happy. I am the only child of a French immigrant who had a very good life.\n",
            "\n",
            "I am very happy. I am the only child of a French immigrant who had a very good life.\n",
            "\n",
            "I am very happy. I am the only child of a French immigrant who had a very good life.\n",
            "\n",
            "I am the only child of a French immigrant who had a very good life.\n",
            "\n",
            "I am very happy. I am the only child of a French immigrant who had a very good life.\n",
            "\n",
            "I am very happy. I am the only child of a French immigrant who had a very good life.\n",
            "\n",
            "I am the only child of a French immigrant who had a very good life.\n",
            "\n",
            "I am the only child of a French immigrant who had a very good life.\n",
            "\n",
            "I am the only child of a French immigrant who had a very good life.\n",
            "\n",
            "I am the only child of a French immigrant who had a very good life.\n"
          ],
          "name": "stdout"
        }
      ]
    },
    {
      "cell_type": "code",
      "metadata": {
        "id": "n2X67ZxDxfnm",
        "colab_type": "code",
        "colab": {}
      },
      "source": [
        ""
      ],
      "execution_count": null,
      "outputs": []
    }
  ]
}